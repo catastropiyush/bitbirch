{
 "cells": [
  {
   "cell_type": "code",
   "execution_count": 1,
   "metadata": {},
   "outputs": [],
   "source": [
    "import glob as glob\n",
    "import matplotlib.pyplot as plt\n",
    "import numpy as np\n",
    "import os\n",
    "import pickle\n",
    "from rdkit import Chem\n",
    "from rdkit.Chem import Draw\n",
    "from rdkit.Chem.Scaffolds import MurckoScaffold"
   ]
  },
  {
   "cell_type": "markdown",
   "metadata": {},
   "source": [
    "Read the smiles input file"
   ]
  },
  {
   "cell_type": "code",
   "execution_count": 2,
   "metadata": {},
   "outputs": [],
   "source": [
    "with open('chembl_33_np.smi', 'r') as f:\n",
    "    smiles = np.array(f.readlines())"
   ]
  },
  {
   "cell_type": "markdown",
   "metadata": {},
   "source": [
    "Generate the fingerprints with RDKit, if fingerprints are already generated, skip this step"
   ]
  },
  {
   "cell_type": "code",
   "execution_count": null,
   "metadata": {},
   "outputs": [],
   "source": [
    "mols = [Chem.MolFromSmiles(smi) for smi in smiles]\n",
    "fps = np.array([Chem.RDKFingerprint(mol) for mol in mols])    "
   ]
  },
  {
   "cell_type": "code",
   "execution_count": 3,
   "metadata": {},
   "outputs": [],
   "source": [
    "fps = np.load('/home/kenneth/Documents/birch/bitbirch_sandbox/data/chembl_33_np.npy', mmap_mode='r')"
   ]
  },
  {
   "cell_type": "markdown",
   "metadata": {},
   "source": [
    "Check the data type"
   ]
  },
  {
   "cell_type": "code",
   "execution_count": 4,
   "metadata": {},
   "outputs": [
    {
     "name": "stdout",
     "output_type": "stream",
     "text": [
      "Bits are binary: True\n",
      "Data type is int64: True\n"
     ]
    }
   ],
   "source": [
    "print(f'Bits are binary: {np.all(np.isin(fps, [0, 1]))}')\n",
    "print(f'Data type is int64: {fps.dtype == np.int64 or fps.dtype == np.float64}')"
   ]
  },
  {
   "cell_type": "markdown",
   "metadata": {},
   "source": [
    "Check the data size"
   ]
  },
  {
   "cell_type": "code",
   "execution_count": 5,
   "metadata": {},
   "outputs": [
    {
     "name": "stdout",
     "output_type": "stream",
     "text": [
      "Number of fingerprints: 64086\n",
      "Number of bits: 2048\n",
      "Number of fingerprints mathces the number of smiles: True\n"
     ]
    }
   ],
   "source": [
    "print(f'Number of fingerprints: {fps.shape[0]}')\n",
    "print(f'Number of bits: {fps.shape[1]}')\n",
    "print(f'Number of fingerprints mathces the number of smiles: {fps.shape[0] == len(smiles)}')"
   ]
  },
  {
   "cell_type": "code",
   "execution_count": 6,
   "metadata": {},
   "outputs": [],
   "source": [
    "# Delete the mols to save memory\n",
    "del mols"
   ]
  },
  {
   "cell_type": "markdown",
   "metadata": {},
   "source": [
    "Now we are going to split our fingerprints in 10 batches and then recluster. We recommend saving the fingerprints in separate files or generating them in batches as we pass them. It all depends in the available disk and memory available"
   ]
  },
  {
   "cell_type": "code",
   "execution_count": 6,
   "metadata": {},
   "outputs": [],
   "source": [
    "n_splits = 5\n",
    "fps_splits = np.array_split(fps, n_splits)\n",
    "index_splits = np.array_split(np.arange(len(fps)), n_splits)\n",
    "\n",
    "os.makedirs('fps', exist_ok=True)\n",
    "\n",
    "with open('fps_splits.txt', 'w') as f:\n",
    "    for i, (index_split, fps_split) in enumerate(zip(index_splits, fps_splits)):\n",
    "        initial_index = index_split[0]\n",
    "        final_index = index_split[-1]\n",
    "        f.write(f'{initial_index}_{final_index}\\n')\n",
    "        np.save(f'fps/fps_{initial_index}_{final_index}.npy', fps_split)"
   ]
  },
  {
   "cell_type": "markdown",
   "metadata": {},
   "source": [
    "Now we are going to do the clustering of each split, for this we attach .sh examples that will run the jobs to cluster each of the splits. The use of parallelization with subprocess module is possible, but it is not as fast. \n",
    "\n",
    "The jobs can we execute in the next cell, but is much faster to do it directly from the command line doing `./sub.sh` or `./sub_slurm.sh` in case of access to a cluster/supercomputer."
   ]
  },
  {
   "cell_type": "code",
   "execution_count": 8,
   "metadata": {},
   "outputs": [
    {
     "data": {
      "text/plain": [
       "0"
      ]
     },
     "execution_count": 8,
     "metadata": {},
     "output_type": "execute_result"
    }
   ],
   "source": [
    "os.system('./sub.sh')"
   ]
  },
  {
   "cell_type": "markdown",
   "metadata": {},
   "source": [
    "Now we proceed to cluster the generated centroids.\n",
    "This will generated two files, clustered_ids_parallel.pkl (which contains the clustered ids of the molecules) and final_centroids_parallel.pkl (which contains the fingerprints of the final centroids for further analysis if needed).\n",
    "\n",
    "If wanted, the threshold can be changed by the user. We recommend a higher threshold than the former, because we are not clustering the molecules directly.\n",
    "\n",
    "You only have to run `python birch_centroids.py -t 0.65` on your command line.\n",
    "\n",
    "Depending on the size of your set, you would have to run this on command line or submit a job to a cluster/supercomputer."
   ]
  },
  {
   "cell_type": "markdown",
   "metadata": {},
   "source": [
    "### Now let's take a look at the results"
   ]
  },
  {
   "cell_type": "code",
   "execution_count": 2,
   "metadata": {},
   "outputs": [],
   "source": [
    "# Read .npy files and put them in a list\n",
    "fps = []\n",
    "for file in glob.glob('fps/*.npy'):\n",
    "    fps.extend(np.load(file))\n",
    "\n",
    "fps = np.array(fps)"
   ]
  },
  {
   "cell_type": "code",
   "execution_count": 28,
   "metadata": {},
   "outputs": [],
   "source": [
    "# Read the clustered_ids_parallel.pkl file\n",
    "with open('clustered_ids_parallel.pkl', 'rb') as f:\n",
    "    clustered_ids = pickle.load(f)\n",
    "\n",
    "# Sort clustered_ids by the number of elements in each cluster\n",
    "clustered_ids = sorted(clustered_ids, key=len, reverse=True)"
   ]
  },
  {
   "cell_type": "code",
   "execution_count": 6,
   "metadata": {},
   "outputs": [],
   "source": [
    "def population_plot(clustered_ids, smiles, top_clusters=20):\n",
    "    # Sort BFs by size\n",
    "    clustered_ids = sorted(clustered_ids, key=lambda x: len(x), reverse=True)\n",
    "\n",
    "    # Get the BFs of interest\n",
    "    mol_indices = clustered_ids[:top_clusters]\n",
    "\n",
    "    # Plot the population\n",
    "    plt.figure(figsize=(10, 10))\n",
    "    plt.bar(range(top_clusters), [len(x) for x in mol_indices], color = 'blue', label='Population')\n",
    "\n",
    "    # Anotate the number of molecules in each cluster above the bars\n",
    "    for i, mol in enumerate(mol_indices):\n",
    "        plt.text(i, len(mol), len(mol), ha='center', va='bottom')\n",
    "\n",
    "    # Get the number of unique scaffolds in each cluster\n",
    "    unique_scaffolds = []\n",
    "    for cluster_of_interest in mol_indices:\n",
    "        # Get the smiles in the cluster of interest\n",
    "        smiles_interest = [smiles[i] for i in cluster_of_interest]\n",
    "\n",
    "        # Get the Scaffols of the molecules in the cluster of interest\n",
    "        scaffolds = [MurckoScaffold.MurckoScaffoldSmilesFromSmiles(smile) for smile in smiles_interest]\n",
    "\n",
    "        # Get the unique scaffolds\n",
    "        unique_scaffolds.append(len(list(set(scaffolds))))\n",
    "    \n",
    "    # Plot the number of unique scaffolds in each cluster\n",
    "    plt.bar(range(top_clusters), unique_scaffolds, color = 'orange', label='Unique Scaffolds')\n",
    "\n",
    "    # Anotate the number of unique scaffolds in each cluster above the bars\n",
    "    for i, mol in enumerate(unique_scaffolds):\n",
    "        plt.text(i, mol, mol, ha='center', va='bottom', color='white')\n",
    "\n",
    "        plt.xticks(range(top_clusters), rotation=45)\n",
    "\n",
    "    plt.show()"
   ]
  },
  {
   "cell_type": "code",
   "execution_count": 13,
   "metadata": {},
   "outputs": [],
   "source": [
    "import pickle as pkl\n",
    "from bitbirch.bitbirch import _BFSubcluster\n",
    "f = open(f'BFs/BFs_25635_38451.pkl', 'rb')\n",
    "data = pkl.load(f)\n",
    "\n",
    "clustered_ids = []\n",
    "for BF in data:\n",
    "    clustered_ids.append(BF.mol_indices)"
   ]
  },
  {
   "cell_type": "code",
   "execution_count": 29,
   "metadata": {},
   "outputs": [
    {
     "data": {
      "image/png": "[encoded data removed]",
      "text/plain": [
       "<Figure size 1000x1000 with 1 Axes>"
      ]
     },
     "metadata": {},
     "output_type": "display_data"
    }
   ],
   "source": [
    "population_plot(clustered_ids, smiles, top_clusters=20)"
   ]
  },
  {
   "cell_type": "markdown",
   "metadata": {},
   "source": [
    "You can notice that the quality of some clusters might not be the best, but it is on par with Taylor-Butina. A way of getting better clusters with BitBIRCH is coming up... Follow the MQ-lab for more updates"
   ]
  },
  {
   "cell_type": "markdown",
   "metadata": {},
   "source": [
    "Generate images of the molecules in a particular cluster"
   ]
  },
  {
   "cell_type": "code",
   "execution_count": 32,
   "metadata": {},
   "outputs": [
    {
     "name": "stdout",
     "output_type": "stream",
     "text": [
      "Number of molecules: 278\n"
     ]
    }
   ],
   "source": [
    "label = 11\n",
    "mols = [Chem.MolFromSmiles(smiles[i]) for i in clustered_ids[label]]\n",
    "print('Number of molecules:', len(mols))\n",
    "\n",
    "for i in range(0, len(mols), 30):\n",
    "\n",
    "    img_1 = Draw.MolsToGridImage(mols[i:i+30], molsPerRow=5)\n",
    "\n",
    "    # Save the images from the .data attribute\n",
    "    with open(f'cluster_{label}_{i}.png', 'wb') as f:\n",
    "        f.write(img_1.data)"
   ]
  },
  {
   "cell_type": "markdown",
   "metadata": {},
   "source": [
    "Get number of clusters"
   ]
  },
  {
   "cell_type": "code",
   "execution_count": 30,
   "metadata": {},
   "outputs": [
    {
     "name": "stdout",
     "output_type": "stream",
     "text": [
      "Number of clusters: 12985\n",
      "number of clusters with more than 10 molecules: 877\n"
     ]
    }
   ],
   "source": [
    "print(f'Number of clusters: {len(clustered_ids)}')\n",
    "print(f'number of clusters with more than 10 molecules: {len([cluster for cluster in clustered_ids if len(cluster) > 10])}')"
   ]
  }
 ],
 "metadata": {
  "kernelspec": {
   "display_name": "Python 3",
   "language": "python",
   "name": "python3"
  },
  "language_info": {
   "codemirror_mode": {
    "name": "ipython",
    "version": 3
   },
   "file_extension": ".py",
   "mimetype": "text/x-python",
   "name": "python",
   "nbconvert_exporter": "python",
   "pygments_lexer": "ipython3",
   "version": "3.10.12"
  }
 },
 "nbformat": 4,
 "nbformat_minor": 2
}
